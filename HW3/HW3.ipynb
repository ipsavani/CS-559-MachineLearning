{
 "cells": [
  {
   "cell_type": "markdown",
   "id": "74981d3e",
   "metadata": {},
   "source": [
    "# <center> CS559 Homework#3: Decision Tree and Ensemble Methods</center>\n",
    "## <center> Due: 11/8/2021 Monday at 11:59 PM</center>\n",
    "\n",
    "\n",
    "In this assignment, you are going to implement four classifiers - **decision tree, random forest, adaboost, and gradient boost**. \n",
    "Then check the performance with `sklearn` built-in algorithms.\n",
    "In this work, splitting into train and test sets is not necessary. \n",
    "\n",
    "The provided data has four columns - three features (a, b, and c) and the target (class). Three features are continuous data and the target is a binary, 0 or 1. "
   ]
  },
  {
   "cell_type": "code",
   "execution_count": 1,
   "id": "24214806",
   "metadata": {},
   "outputs": [],
   "source": [
    "import numpy as np\n",
    "from random import randrange\n",
    "from random import seed\n",
    "import pandas as pd\n",
    "import math\n",
    "import matplotlib.pyplot as plt\n",
    "import seaborn as sns\n",
    "from scipy.optimize import minimize_scalar\n",
    "from sklearn.preprocessing import StandardScaler, MinMaxScaler\n",
    "from sklearn.tree import DecisionTreeClassifier\n",
    "from sklearn.ensemble import RandomForestClassifier\n",
    "from sklearn.ensemble import AdaBoostClassifier\n",
    "from sklearn.ensemble import GradientBoostingClassifier\n",
    "from sklearn.metrics import accuracy_score,classification_report\n",
    "from sklearn.metrics import confusion_matrix\n",
    "import warnings\n",
    "warnings.filterwarnings(\"ignore\")"
   ]
  },
  {
   "cell_type": "code",
   "execution_count": 2,
   "id": "d4a16e6d",
   "metadata": {},
   "outputs": [],
   "source": [
    "df = pd.read_csv('./F21_CS559_HW3_data.csv')"
   ]
  },
  {
   "cell_type": "code",
   "execution_count": 3,
   "id": "3d4052fb",
   "metadata": {},
   "outputs": [],
   "source": [
    "df.replace(1,-1,inplace=True)\n",
    "df.replace(2,1,inplace=True)\n",
    "\n",
    "dataset = df.values.tolist()"
   ]
  },
  {
   "cell_type": "code",
   "execution_count": 4,
   "id": "f6a87ecf",
   "metadata": {},
   "outputs": [
    {
     "data": {
      "text/html": [
       "<div>\n",
       "<style scoped>\n",
       "    .dataframe tbody tr th:only-of-type {\n",
       "        vertical-align: middle;\n",
       "    }\n",
       "\n",
       "    .dataframe tbody tr th {\n",
       "        vertical-align: top;\n",
       "    }\n",
       "\n",
       "    .dataframe thead th {\n",
       "        text-align: right;\n",
       "    }\n",
       "</style>\n",
       "<table border=\"1\" class=\"dataframe\">\n",
       "  <thead>\n",
       "    <tr style=\"text-align: right;\">\n",
       "      <th></th>\n",
       "      <th>a</th>\n",
       "      <th>b</th>\n",
       "      <th>c</th>\n",
       "      <th>class</th>\n",
       "    </tr>\n",
       "  </thead>\n",
       "  <tbody>\n",
       "    <tr>\n",
       "      <th>0</th>\n",
       "      <td>9.4202</td>\n",
       "      <td>-4.3507</td>\n",
       "      <td>10.3764</td>\n",
       "      <td>-1</td>\n",
       "    </tr>\n",
       "    <tr>\n",
       "      <th>1</th>\n",
       "      <td>9.7044</td>\n",
       "      <td>-4.4601</td>\n",
       "      <td>10.6803</td>\n",
       "      <td>-1</td>\n",
       "    </tr>\n",
       "    <tr>\n",
       "      <th>2</th>\n",
       "      <td>9.8075</td>\n",
       "      <td>-4.0894</td>\n",
       "      <td>10.6259</td>\n",
       "      <td>-1</td>\n",
       "    </tr>\n",
       "    <tr>\n",
       "      <th>3</th>\n",
       "      <td>9.2771</td>\n",
       "      <td>-4.0349</td>\n",
       "      <td>10.1166</td>\n",
       "      <td>-1</td>\n",
       "    </tr>\n",
       "    <tr>\n",
       "      <th>4</th>\n",
       "      <td>9.6447</td>\n",
       "      <td>-3.5968</td>\n",
       "      <td>10.2936</td>\n",
       "      <td>-1</td>\n",
       "    </tr>\n",
       "  </tbody>\n",
       "</table>\n",
       "</div>"
      ],
      "text/plain": [
       "        a       b        c  class\n",
       "0  9.4202 -4.3507  10.3764     -1\n",
       "1  9.7044 -4.4601  10.6803     -1\n",
       "2  9.8075 -4.0894  10.6259     -1\n",
       "3  9.2771 -4.0349  10.1166     -1\n",
       "4  9.6447 -3.5968  10.2936     -1"
      ]
     },
     "execution_count": 4,
     "metadata": {},
     "output_type": "execute_result"
    }
   ],
   "source": [
    "df.head(5)"
   ]
  },
  {
   "cell_type": "markdown",
   "id": "8fc2b4e9",
   "metadata": {},
   "source": [
    "### Question 1: Decisition Tree Classifier\n",
    "- A simple DT implementation (10 pts.)\n",
    "    - to make the problem simple, implement a decision tree with depth of 3 (the root index is 0).\n",
    "    - calculate the gini index for each attribute and pick the best attribute for each node.\n",
    "    - calculate the accuracy using accuracy score. \n",
    "- Classification using DecistionTreeClassifier (5 pts)\n",
    "- Evaluation (5 pts)"
   ]
  },
  {
   "cell_type": "code",
   "execution_count": 5,
   "id": "375831ec",
   "metadata": {},
   "outputs": [],
   "source": [
    "# this function returns the node for best split\n",
    "def best_split(dataset):\n",
    "    # get all class values\n",
    "    class_values = list(set(row[-1] for row in dataset))\n",
    "    # initialize node info\n",
    "    split_index = 0\n",
    "    split_value = 0\n",
    "    split_gini = 1\n",
    "    split_groups = None\n",
    "    for index in range(len(dataset[0])-1):\n",
    "        for row in dataset:\n",
    "            # create groups for left-side and right-side data in tree\n",
    "            groups = [[x for x in dataset if x[index]<row[index]],[y for y in dataset if y[index]>=row[index]]]\n",
    "            # n is total samples for current split\n",
    "            n = float(sum([len(group) for group in groups])) \n",
    "            gini = 0.0\n",
    "            for group in groups:\n",
    "                # avoid divide by zero\n",
    "                if len(group) == 0:\n",
    "                    continue \n",
    "                score = 0.0\n",
    "                # score the group based on score for each class\n",
    "                for class_val in class_values:\n",
    "                    p_val = [x[-1] for x in group].count(class_val) / len(group)\n",
    "                    score += p_val**2\n",
    "                # calculate  gini (weighted average impurity)\n",
    "                gini += (1.0 - score)*(float(len(group)) / n)\n",
    "            if gini < split_gini:\n",
    "                split_index, split_value, split_gini, split_groups = index, row[index], gini, groups\n",
    "    return {'index':split_index, 'value':split_value, 'groups':split_groups}"
   ]
  },
  {
   "cell_type": "code",
   "execution_count": 6,
   "id": "3113c06c",
   "metadata": {},
   "outputs": [],
   "source": [
    "# Create child splits for a node or make leaf if no splits possible\n",
    "# split function is called recursively to build a tree from the data\n",
    "def split(node, current_depth):\n",
    "    left, right = node['groups']\n",
    "    del(node['groups'])\n",
    "    left_class_val,right_class_val = [row[-1] for row in left],[row[-1] for row in right]\n",
    "    # if no further splits possible create leaf\n",
    "    if not left or not right:\n",
    "        classes = [row[-1] for row in (left+right)]\n",
    "        node['left'] = node['right'] = max(set(left_class_val+right_class_val ), key = (left_class_val+right_class_val).count)\n",
    "        return\n",
    "    # if depth 3 is reached create leaf\n",
    "    if current_depth >= 3:\n",
    "        node['left'] = max(set(left_class_val),key=left_class_val.count)\n",
    "        node['right'] = max(set(right_class_val),key=right_class_val.count)\n",
    "        return\n",
    "    # create left child\n",
    "    node['left'] = best_split(left)\n",
    "    split(node['left'], current_depth+1)\n",
    "    # create right child\n",
    "    node['right'] = best_split(right)\n",
    "    split(node['right'], current_depth+1)"
   ]
  },
  {
   "cell_type": "code",
   "execution_count": 7,
   "id": "5428e69c",
   "metadata": {},
   "outputs": [],
   "source": [
    "# Make a prediction for each row with a decision tree\n",
    "def predict(node, row):\n",
    "    if row[node['index']] < node['value']:\n",
    "        if isinstance(node['left'], dict):\n",
    "            return predict(node['left'], row)\n",
    "        else:\n",
    "            return node['left']\n",
    "    else:\n",
    "        if isinstance(node['right'], dict):\n",
    "            return predict(node['right'], row)\n",
    "        else:\n",
    "            return node['right']"
   ]
  },
  {
   "cell_type": "code",
   "execution_count": 8,
   "id": "d3481805",
   "metadata": {},
   "outputs": [],
   "source": [
    "def myDecisionTree(X_train,X_test):\n",
    "    root = best_split(X_train)\n",
    "    # call split to recursively build a tree from root\n",
    "    split(root, 1)\n",
    "    # predict each row from the built tree\n",
    "    classification = list()\n",
    "    for row in X_test:\n",
    "        prediction = predict(root, row)\n",
    "        classification.append(prediction)\n",
    "    return(classification)"
   ]
  },
  {
   "cell_type": "code",
   "execution_count": 9,
   "id": "38972a71",
   "metadata": {},
   "outputs": [
    {
     "name": "stdout",
     "output_type": "stream",
     "text": [
      "99.96000000000001%\n"
     ]
    }
   ],
   "source": [
    "y_pred_myDT = myDecisionTree(dataset,dataset)\n",
    "y_test_myDT = [x[-1] for x in dataset]\n",
    "acc = accuracy_score(y_test_myDT,y_pred_myDT)\n",
    "print(str(acc*100)+'%')"
   ]
  },
  {
   "cell_type": "code",
   "execution_count": 10,
   "id": "e653fe1f",
   "metadata": {},
   "outputs": [
    {
     "name": "stdout",
     "output_type": "stream",
     "text": [
      "100.0%\n"
     ]
    }
   ],
   "source": [
    "dtclassifier = DecisionTreeClassifier()\n",
    "dtclassifier.fit(df.drop(['class'],axis=1),df['class'])\n",
    "y_pred_DT = dtclassifier.predict(df.drop(['class'],axis=1))\n",
    "print(str(100*accuracy_score(df['class'],y_pred_DT))+'%')\n"
   ]
  },
  {
   "cell_type": "markdown",
   "id": "37e5f5b3",
   "metadata": {},
   "source": [
    "#### DT evaluation"
   ]
  },
  {
   "cell_type": "code",
   "execution_count": 11,
   "id": "fd77f721",
   "metadata": {},
   "outputs": [
    {
     "data": {
      "image/png": "[encoded data removed]",
      "text/plain": [
       "<Figure size 540x540 with 1 Axes>"
      ]
     },
     "metadata": {
      "needs_background": "light"
     },
     "output_type": "display_data"
    },
    {
     "name": "stdout",
     "output_type": "stream",
     "text": [
      "              precision    recall  f1-score   support\n",
      "\n",
      "     class 1       1.00      1.00      1.00      1249\n",
      "     class 2       1.00      1.00      1.00      1251\n",
      "\n",
      "    accuracy                           1.00      2500\n",
      "   macro avg       1.00      1.00      1.00      2500\n",
      "weighted avg       1.00      1.00      1.00      2500\n",
      "\n"
     ]
    }
   ],
   "source": [
    "class_names = ['class 1','class 2']\n",
    "\n",
    "cmat = confusion_matrix(y_test_myDT,y_pred_myDT)\n",
    "fig,ax = plt.subplots(figsize=(7.5,7.5))\n",
    "ax.matshow(cmat,cmap=plt.cm.Blues,alpha=0.3)\n",
    "for i in range(cmat.shape[0]):\n",
    "    for j in range(cmat.shape[1]):\n",
    "        ax.text(x=j,y=i,s=cmat[i,j],va='center',ha='center',size='xx-large')\n",
    "plt.xlabel('Predictions',fontsize=18)\n",
    "plt.ylabel('Actuals',fontsize=18)\n",
    "plt.title('Confusion Matrix',fontsize=18)\n",
    "plt.show()\n",
    "\n",
    "print(classification_report(y_test_myDT,y_pred_myDT,target_names = class_names))"
   ]
  },
  {
   "cell_type": "markdown",
   "id": "349e0e9b",
   "metadata": {},
   "source": [
    "### Question 2: Random Forest Classifier\n",
    "- A simle RF implementation (10 pts)\n",
    "    - make a bootstrap baggin function to make 3 samples.\n",
    "    - for each sample, run a simple DT from question 1.\n",
    "    - then average the accuracy. \n",
    "- Classification using RandomForestClassifier (5 pts)\n",
    "- Evaluation (5 pts)"
   ]
  },
  {
   "cell_type": "code",
   "execution_count": 12,
   "id": "823c99e2",
   "metadata": {},
   "outputs": [],
   "source": [
    "# Random Forest bagging and bootstrap aggregation function\n",
    "def RF_bagged_sample(dataset, ratio):\n",
    "    features = list()\n",
    "    len_features = 2\n",
    "    # Select random 2 features from dataset, ideally sqrt(total_features) is selected\n",
    "    # but we only have 3 features so selecting at least 2 makes sense\n",
    "    while len(features) < len_features:\n",
    "        index = randrange(len_features)\n",
    "        if index not in features :\n",
    "            if index!=3:\n",
    "                features.append(index)\n",
    "    features.append(3)\n",
    "\n",
    "    # Create a subsample from dataset of size dataset * ratio\n",
    "    sample = list()\n",
    "    sample_size = round(len(dataset)*ratio)\n",
    "    while len(sample) < sample_size:\n",
    "        random_row_idx = randrange(len(dataset))\n",
    "        random_row = [dataset[random_row_idx][x] for x in features]\n",
    "        sample.append(random_row)\n",
    "    \n",
    "    return sample"
   ]
  },
  {
   "cell_type": "code",
   "execution_count": 13,
   "id": "7d0532b2",
   "metadata": {},
   "outputs": [],
   "source": [
    "def myRandomForest(dataset):\n",
    "    sub_tree_predictions = list()\n",
    "    # create 3 samples\n",
    "    for i in range(3):\n",
    "        # get bagged samples\n",
    "        sample = RF_bagged_sample(dataset,0.5)\n",
    "        # get predictions using mydecisiontree from question 1\n",
    "        sub_tree_predictions.append(myDecisionTree(sample,dataset))\n",
    "    # get max prediction for each row from all 3 trees\n",
    "    pred = [max(sub_tree_predictions[0][x],sub_tree_predictions[1][x],sub_tree_predictions[1][x]) \\\n",
    "        for x in range(len(sub_tree_predictions[0]))]\n",
    "    return pred"
   ]
  },
  {
   "cell_type": "code",
   "execution_count": 14,
   "id": "c534c4a0",
   "metadata": {},
   "outputs": [
    {
     "name": "stdout",
     "output_type": "stream",
     "text": [
      "98.28%\n"
     ]
    }
   ],
   "source": [
    "y_pred_myRF = myRandomForest(dataset)\n",
    "y_test_myRF = [x[-1] for x in dataset]\n",
    "acc = accuracy_score(y_test_myRF,y_pred_myRF)\n",
    "print(str(acc*100)+'%')"
   ]
  },
  {
   "cell_type": "code",
   "execution_count": 15,
   "id": "6ad19515",
   "metadata": {},
   "outputs": [
    {
     "data": {
      "text/plain": [
       "1.0"
      ]
     },
     "execution_count": 15,
     "metadata": {},
     "output_type": "execute_result"
    }
   ],
   "source": [
    "rfclassifier = RandomForestClassifier()\n",
    "rfclassifier.fit(df.drop(['class'],axis=1),df['class'])\n",
    "y_pred_RF = rfclassifier.predict(df.drop(['class'],axis=1))\n",
    "accuracy_score(df['class'],y_pred_RF)"
   ]
  },
  {
   "cell_type": "markdown",
   "id": "5f8203b5",
   "metadata": {},
   "source": [
    "#### RF evaluation"
   ]
  },
  {
   "cell_type": "code",
   "execution_count": 16,
   "id": "54b4c79a",
   "metadata": {},
   "outputs": [
    {
     "data": {
      "image/png": "[encoded data removed]",
      "text/plain": [
       "<Figure size 540x540 with 1 Axes>"
      ]
     },
     "metadata": {
      "needs_background": "light"
     },
     "output_type": "display_data"
    },
    {
     "name": "stdout",
     "output_type": "stream",
     "text": [
      "              precision    recall  f1-score   support\n",
      "\n",
      "     class 1       1.00      0.97      0.98      1249\n",
      "     class 2       0.97      1.00      0.98      1251\n",
      "\n",
      "    accuracy                           0.98      2500\n",
      "   macro avg       0.98      0.98      0.98      2500\n",
      "weighted avg       0.98      0.98      0.98      2500\n",
      "\n"
     ]
    }
   ],
   "source": [
    "\n",
    "class_names = ['class 1','class 2']\n",
    "\n",
    "cmat = confusion_matrix(y_test_myRF,y_pred_myRF)\n",
    "fig,ax = plt.subplots(figsize=(7.5,7.5))\n",
    "ax.matshow(cmat,cmap=plt.cm.Blues,alpha=0.3)\n",
    "for i in range(cmat.shape[0]):\n",
    "    for j in range(cmat.shape[1]):\n",
    "        ax.text(x=j,y=i,s=cmat[i,j],va='center',ha='center',size='xx-large')\n",
    "plt.xlabel('Predictions',fontsize=18)\n",
    "plt.ylabel('Actuals',fontsize=18)\n",
    "plt.title('Confusion Matrix',fontsize=18)\n",
    "plt.show()\n",
    "\n",
    "print(classification_report(y_test_myRF,y_pred_myRF,target_names = class_names))"
   ]
  },
  {
   "cell_type": "markdown",
   "id": "168a2508",
   "metadata": {},
   "source": [
    "### Question 3: AdaBoost Classifier\n",
    "- AB implementation (15 pts)\n",
    "- Classification using AdaBoostClassifier (5 pts)\n",
    "- Evaluation (5 pts)"
   ]
  },
  {
   "cell_type": "code",
   "execution_count": 17,
   "id": "62d10e22",
   "metadata": {},
   "outputs": [],
   "source": [
    "def myAdaBoost(dataset):\n",
    "    X_train = np.array(dataset.iloc[:,:-1])\n",
    "    X_test = np.array(dataset.iloc[:,:-1])\n",
    "    y = np.array(dataset.iloc[:,-1:])\n",
    "    n_classifiers = 5\n",
    "    X_train = np.float64(X_train)\n",
    "    N = len(y)\n",
    "    # initialize weights to 1/n\n",
    "    w = np.array([1/N for i in range(N)])\n",
    "    y_pred = 0\n",
    "    for clf in range(n_classifiers):\n",
    "        # create prediction function G() using decision stump with initial weight 1/n\n",
    "        G = DecisionTreeClassifier(max_depth=1).fit(X_train,y,sample_weight=w).predict\n",
    "        # calculate error by summing misclassified samples from prediction function G()\n",
    "        err = sum([w[i]*misclassified(y[i]!=G(X_train[i].reshape(1,-1))) for i in range(N)])/sum(w)\n",
    "        # calculate alpha to update sample weights\n",
    "        Alpha = np.log((1-err)/err)\n",
    "        # calculate new weights\n",
    "        # Misclassified samples get larger weights and correct classifications get smaller weights\n",
    "        w = [w[i]*np.exp(Alpha*misclassified(y[i]!=G(X_train[i].reshape(1,-1)))) for i in range(N)] \n",
    "        # Add predictions weighted by alpha for each clf\n",
    "        y_pred += Alpha*G(X_test)\n",
    "    # classify weighted predictions, returns -1 or 1\n",
    "    f = np.vectorize(classify)\n",
    "    y_pred = np.where(f(y)==-1,-1,1)\n",
    "    return y_pred\n",
    "    \n",
    "def misclassified(flag):\n",
    "    return 1 if flag else 0\n",
    "\n",
    "def classify(x):\n",
    "    return abs(x)/x if x!=0 else 1       \n"
   ]
  },
  {
   "cell_type": "code",
   "execution_count": 18,
   "id": "080b61b9",
   "metadata": {},
   "outputs": [
    {
     "name": "stdout",
     "output_type": "stream",
     "text": [
      "100.0%\n"
     ]
    }
   ],
   "source": [
    "y_test_myADA = np.array(df.iloc[:,-1:])\n",
    "y_pred_myADA = myAdaBoost(df)\n",
    "print(str(accuracy_score(y_test_myADA,y_pred_myADA)*100)+'%')"
   ]
  },
  {
   "cell_type": "code",
   "execution_count": 19,
   "id": "5423b0e8",
   "metadata": {},
   "outputs": [
    {
     "name": "stdout",
     "output_type": "stream",
     "text": [
      "99.72%\n"
     ]
    }
   ],
   "source": [
    "\n",
    "Ada_classifier = AdaBoostClassifier(n_estimators=5,algorithm=\"SAMME\")\n",
    "Ada_classifier.fit(df.iloc[:,:-1],df.iloc[:,-1:])\n",
    "y_pred_Ada = Ada_classifier.predict(df.iloc[:,:-1])\n",
    "print(str(accuracy_score(df.iloc[:,-1:],y_pred_Ada)*100)+'%')\n"
   ]
  },
  {
   "cell_type": "markdown",
   "id": "3f5896f6",
   "metadata": {},
   "source": [
    "#### ADA Evaluation"
   ]
  },
  {
   "cell_type": "code",
   "execution_count": 20,
   "id": "70156e90",
   "metadata": {},
   "outputs": [
    {
     "data": {
      "image/png": "[encoded data removed]",
      "text/plain": [
       "<Figure size 540x540 with 1 Axes>"
      ]
     },
     "metadata": {
      "needs_background": "light"
     },
     "output_type": "display_data"
    },
    {
     "name": "stdout",
     "output_type": "stream",
     "text": [
      "              precision    recall  f1-score   support\n",
      "\n",
      "     class 1       1.00      1.00      1.00      1249\n",
      "     class 2       1.00      1.00      1.00      1251\n",
      "\n",
      "    accuracy                           1.00      2500\n",
      "   macro avg       1.00      1.00      1.00      2500\n",
      "weighted avg       1.00      1.00      1.00      2500\n",
      "\n"
     ]
    }
   ],
   "source": [
    "class_names = ['class 1','class 2']\n",
    "\n",
    "cmat = confusion_matrix(y_test_myADA,y_pred_myADA)\n",
    "fig,ax = plt.subplots(figsize=(7.5,7.5))\n",
    "ax.matshow(cmat,cmap=plt.cm.Blues,alpha=0.3)\n",
    "for i in range(cmat.shape[0]):\n",
    "    for j in range(cmat.shape[1]):\n",
    "        ax.text(x=j,y=i,s=cmat[i,j],va='center',ha='center',size='xx-large')\n",
    "plt.xlabel('Predictions',fontsize=18)\n",
    "plt.ylabel('Actuals',fontsize=18)\n",
    "plt.title('Confusion Matrix',fontsize=18)\n",
    "plt.show()\n",
    "\n",
    "print(classification_report(y_test_myADA,y_pred_myADA,target_names = class_names))\n",
    "# likely overfitted due to no train,test split"
   ]
  },
  {
   "cell_type": "markdown",
   "id": "0c6b1be8",
   "metadata": {},
   "source": [
    "### Question 4: Gradient Boost Classifier\n",
    "- GB implementation (15 pts)\n",
    "- Classification using GradientBoostingClassifier (5 pts)\n",
    "- Evaluation (5 pts)"
   ]
  },
  {
   "cell_type": "code",
   "execution_count": 21,
   "id": "8d99d658",
   "metadata": {},
   "outputs": [],
   "source": [
    "from sklearn.tree import DecisionTreeRegressor\n",
    "\n",
    "def myGradientBoostClassifier(X, y, n_estimators=10):\n",
    "    # Initialize\n",
    "    n_samples, n_features = X.shape\n",
    "    n_estimators = 10\n",
    "    estimators = []\n",
    "    F = np.full((n_samples, ), 0.0)  # Predictions of each training example using the ensemble\n",
    "    \n",
    "    for t in range(n_estimators):\n",
    "        # Fit a weak learner to the residuals, which are computed as gradient(Loss(y, F))\n",
    "        residuals = y - F\n",
    "        # weak learner 1 level decision tree regressor\n",
    "        h = DecisionTreeRegressor(max_depth=1)\n",
    "        h.fit(X, residuals)\n",
    "        # Compute a step length that produces the best improvement in the loss with linesearch\n",
    "        hreg = h.predict(X)\n",
    "        loss = lambda a: np.linalg.norm(y - (F + a * hreg))**2\n",
    "        step = minimize_scalar(loss, method='golden')\n",
    "        a = step.x\n",
    "        # Update the ensemble predictions\n",
    "        F = F + a * hreg\n",
    "        # Update the ensemble\n",
    "        estimators.append((a, h))\n",
    "    \n",
    "    # prediction\n",
    "    pred = np.zeros((X.shape[0], ))\n",
    "    for a,h in estimators:\n",
    "        pred = pred + a*h.predict(X)    \n",
    "    y = np.sign(pred)\n",
    "    y_pred = np.amax(y,axis=1)\n",
    "    \n",
    "    return y_pred"
   ]
  },
  {
   "cell_type": "code",
   "execution_count": 22,
   "id": "51da661a",
   "metadata": {},
   "outputs": [
    {
     "name": "stdout",
     "output_type": "stream",
     "text": [
      "99.28%\n"
     ]
    }
   ],
   "source": [
    "X_gb = np.array(df.iloc[:,:-1])\n",
    "y_gb = np.array(df.iloc[:,-1:])\n",
    "y_pred_myGB = myGradientBoostClassifier(X_gb,y_gb)\n",
    "acc = accuracy_score(y_gb,y_pred_myGB)\n",
    "print(str(acc*100) + '%')"
   ]
  },
  {
   "cell_type": "code",
   "execution_count": 23,
   "id": "34906cf6",
   "metadata": {},
   "outputs": [
    {
     "name": "stdout",
     "output_type": "stream",
     "text": [
      "100.0%\n"
     ]
    }
   ],
   "source": [
    "clf_gradientboost = GradientBoostingClassifier()\n",
    "clf_gradientboost.fit(df.iloc[:,:-1],df.iloc[:,-1:])\n",
    "y_pred_gb = clf_gradientboost.predict(df.iloc[:,:-1])\n",
    "print(str(accuracy_score(y_gb,y_pred_gb)*100) + '%')"
   ]
  },
  {
   "cell_type": "markdown",
   "id": "ecf2312e",
   "metadata": {},
   "source": [
    "#### GB Evaluation"
   ]
  },
  {
   "cell_type": "code",
   "execution_count": 24,
   "id": "c41077cd",
   "metadata": {},
   "outputs": [
    {
     "data": {
      "image/png": "[encoded data removed]",
      "text/plain": [
       "<Figure size 540x540 with 1 Axes>"
      ]
     },
     "metadata": {
      "needs_background": "light"
     },
     "output_type": "display_data"
    },
    {
     "name": "stdout",
     "output_type": "stream",
     "text": [
      "              precision    recall  f1-score   support\n",
      "\n",
      "     class 1       1.00      0.99      0.99      1249\n",
      "     class 2       0.99      1.00      0.99      1251\n",
      "\n",
      "    accuracy                           0.99      2500\n",
      "   macro avg       0.99      0.99      0.99      2500\n",
      "weighted avg       0.99      0.99      0.99      2500\n",
      "\n"
     ]
    }
   ],
   "source": [
    "class_names = ['class 1','class 2']\n",
    "\n",
    "cmat = confusion_matrix(y_gb,y_pred_myGB)\n",
    "fig,ax = plt.subplots(figsize=(7.5,7.5))\n",
    "ax.matshow(cmat,cmap=plt.cm.Blues,alpha=0.3)\n",
    "for i in range(cmat.shape[0]):\n",
    "    for j in range(cmat.shape[1]):\n",
    "        ax.text(x=j,y=i,s=cmat[i,j],va='center',ha='center',size='xx-large')\n",
    "plt.xlabel('Predictions',fontsize=18)\n",
    "plt.ylabel('Actuals',fontsize=18)\n",
    "plt.title('Confusion Matrix',fontsize=18)\n",
    "plt.show()\n",
    "\n",
    "class_names = ['class 1','class 2']\n",
    "print(classification_report(y_gb,y_pred_myGB,target_names = class_names))\n",
    "\n"
   ]
  },
  {
   "cell_type": "code",
   "execution_count": null,
   "id": "b90db403",
   "metadata": {},
   "outputs": [],
   "source": []
  }
 ],
 "metadata": {
  "interpreter": {
   "hash": "af2ae0b2d1afef30729054acd7884eecb75ec13e978a0196b5f9b32b71a04819"
  },
  "kernelspec": {
   "display_name": "Python 3.9.7 64-bit ('mllibs': conda)",
   "language": "python",
   "name": "python397jvsc74a57bd0af2ae0b2d1afef30729054acd7884eecb75ec13e978a0196b5f9b32b71a04819"
  },
  "language_info": {
   "codemirror_mode": {
    "name": "ipython",
    "version": 3
   },
   "file_extension": ".py",
   "mimetype": "text/x-python",
   "name": "python",
   "nbconvert_exporter": "python",
   "pygments_lexer": "ipython3",
   "version": "3.9.7"
  }
 },
 "nbformat": 4,
 "nbformat_minor": 5
}
